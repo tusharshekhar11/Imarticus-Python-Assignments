{
 "cells": [
  {
   "cell_type": "code",
   "execution_count": 3,
   "id": "e2fdc76f",
   "metadata": {},
   "outputs": [],
   "source": [
    "## 1. Write a program to check whether an year entered by an user is leap year or not"
   ]
  },
  {
   "cell_type": "code",
   "execution_count": 4,
   "id": "05a8da4a",
   "metadata": {},
   "outputs": [
    {
     "name": "stdout",
     "output_type": "stream",
     "text": [
      "enter The year :2020\n",
      "2020 is leap year\n"
     ]
    }
   ],
   "source": [
    "leap_year=int(input(\"enter The year :\"))\n",
    "if leap_year%4==0:\n",
    "    print(str(leap_year)+ \" is leap year\")\n",
    "else:\n",
    "    print(str(leap_year)+\" is not a leap year\")"
   ]
  },
  {
   "cell_type": "code",
   "execution_count": 5,
   "id": "5e379f4c",
   "metadata": {},
   "outputs": [],
   "source": [
    "### 2. Take a string containing punctuation marks as an input\n",
    "#from user and write a program to remove all the \n",
    "#punctuation marks from a string"
   ]
  },
  {
   "cell_type": "code",
   "execution_count": 6,
   "id": "63ba5b7b",
   "metadata": {},
   "outputs": [
    {
     "name": "stdout",
     "output_type": "stream",
     "text": [
      "Enter the String data&^%#&science&*^$%\n",
      "datascience\n"
     ]
    }
   ],
   "source": [
    "string=str(input(\"Enter the String \"))\n",
    "Punch='''!()-[]{};:'\"\\,<>./?@#$%^&*_~ '''\n",
    "x=\"\"\n",
    "for i in string:\n",
    "    if i  not in Punch:\n",
    "         x=x+i\n",
    "print(x)"
   ]
  },
  {
   "cell_type": "code",
   "execution_count": 23,
   "id": "c29fdffe",
   "metadata": {},
   "outputs": [],
   "source": [
    "### 3. Take two separate numbers as input \n",
    "#from the user and Write a program to swap 2 numbers without using temporary variable"
   ]
  },
  {
   "cell_type": "code",
   "execution_count": 8,
   "id": "8cd06e01",
   "metadata": {},
   "outputs": [
    {
     "name": "stdout",
     "output_type": "stream",
     "text": [
      "enter first number  7\n",
      "enter second number  2\n",
      "The value of a is:  2\n",
      "The value of b is:  7\n"
     ]
    }
   ],
   "source": [
    "a=int(input(\"enter first number  \"))\n",
    "b=int(input(\"enter second number  \"))\n",
    "a,b=b,a\n",
    "print(\"The value of a is: \",a)\n",
    "print(\"The value of b is: \",b)"
   ]
  },
  {
   "cell_type": "code",
   "execution_count": 9,
   "id": "0bb24aaf",
   "metadata": {},
   "outputs": [
    {
     "name": "stdout",
     "output_type": "stream",
     "text": [
      "150\n"
     ]
    }
   ],
   "source": [
    "### 4. Write a program to print product of following variables\n",
    "\n",
    "integer = 10\n",
    "string = \"15\"\n",
    "string=int(string)\n",
    "product=integer*string\n",
    "print(product)"
   ]
  },
  {
   "cell_type": "code",
   "execution_count": 10,
   "id": "7098d2a3",
   "metadata": {},
   "outputs": [],
   "source": [
    "### 5. Write a program to print following pattern\n",
    "#a\n",
    "#b c\n",
    "#d e f\n",
    "#g h i j\n",
    "#k l m n o\n",
    "#p q r s t u"
   ]
  },
  {
   "cell_type": "code",
   "execution_count": 11,
   "id": "a5490f52",
   "metadata": {},
   "outputs": [
    {
     "name": "stdout",
     "output_type": "stream",
     "text": [
      "a  \n",
      "b c  \n",
      "d e f  \n",
      "g h i j  \n",
      "k l m n o  \n",
      "p q r s t u  \n"
     ]
    }
   ],
   "source": [
    "number=6\n",
    "Asci_val=97\n",
    "\n",
    "for i in range(0,number) :\n",
    "    for j in range(0,i+1):\n",
    "        character=chr(Asci_val)\n",
    "        print(character,end=' ')\n",
    "        Asci_val+=1\n",
    "    print(\" \")"
   ]
  },
  {
   "cell_type": "code",
   "execution_count": 12,
   "id": "4d6c7c81",
   "metadata": {},
   "outputs": [],
   "source": [
    "### 6. Write a program to print tables from 2 to n, where n is provided by user"
   ]
  },
  {
   "cell_type": "code",
   "execution_count": 14,
   "id": "a37492f7",
   "metadata": {},
   "outputs": [
    {
     "name": "stdout",
     "output_type": "stream",
     "text": [
      "Enter the Number2\n",
      "2 X 1 = 2\n",
      "2 X 2 = 4\n",
      "2 X 3 = 6\n",
      "2 X 4 = 8\n",
      "2 X 5 = 10\n",
      "2 X 6 = 12\n",
      "2 X 7 = 14\n",
      "2 X 8 = 16\n",
      "2 X 9 = 18\n",
      "2 X 10 = 20\n",
      "\n",
      "\n"
     ]
    }
   ],
   "source": [
    "n=int(input(\"Enter the Number\"))\n",
    "for i in range(2,n+1):\n",
    "    for j in range(1,11):\n",
    "        product=i*j\n",
    "        print(i, 'X',j, '=',product)\n",
    "    print('\\n')\n"
   ]
  },
  {
   "cell_type": "code",
   "execution_count": 15,
   "id": "54551504",
   "metadata": {},
   "outputs": [],
   "source": [
    "### 7. Write a program to read height (in centimeters) from user and then convert it to feet and inches"
   ]
  },
  {
   "cell_type": "code",
   "execution_count": 16,
   "id": "58a5c0bc",
   "metadata": {},
   "outputs": [
    {
     "name": "stdout",
     "output_type": "stream",
     "text": [
      "Enter the height in centimeters:188\n",
      "The length in inches 74.02\n",
      "The length in feet 6.17\n"
     ]
    }
   ],
   "source": [
    "height = int(input(\"Enter the height in centimeters:\"))\n",
    "inches = 0.3937*height\n",
    "feet = 0.0328*height\n",
    "print(\"The length in inches\", round(inches,2))\n",
    "print(\"The length in feet\", round(feet,2))"
   ]
  },
  {
   "cell_type": "code",
   "execution_count": 17,
   "id": "c06da9c3",
   "metadata": {},
   "outputs": [],
   "source": [
    "### 8. Write a program to print following pattern\n",
    "                                              #  *\n",
    "                                              #  * * \n",
    "                                              #  * * *\n",
    "                                              #  * *\n",
    "                                              #  *"
   ]
  },
  {
   "cell_type": "code",
   "execution_count": 18,
   "id": "a370ed27",
   "metadata": {},
   "outputs": [
    {
     "name": "stdout",
     "output_type": "stream",
     "text": [
      "* \r\n",
      "* * \r\n",
      "* * * \r\n",
      "* * \r\n",
      "* \r\n",
      "\r\n"
     ]
    }
   ],
   "source": [
    "for i in range(0,3):\n",
    "    for j in range(0,i+1):\n",
    "        print(\"*\",end=' ')\n",
    "    print(\"\\r\")\n",
    "for i in range(3,0,-1):\n",
    "    for j in range(0,i-1):\n",
    "        print(\"*\",end=' ')\n",
    "    print(\"\\r\")"
   ]
  },
  {
   "cell_type": "code",
   "execution_count": 19,
   "id": "1745cc95",
   "metadata": {},
   "outputs": [],
   "source": [
    "### 15. Write a program to remove space from keys of the given dictionary\n"
   ]
  },
  {
   "cell_type": "code",
   "execution_count": 20,
   "id": "74b648c0",
   "metadata": {},
   "outputs": [],
   "source": [
    "Employee = {'emp 01' : 'Raj', 'emp 02' : 'Sheela', 'emp 0 3 ': 'Joseph'};\n"
   ]
  },
  {
   "cell_type": "code",
   "execution_count": 21,
   "id": "21f880e4",
   "metadata": {},
   "outputs": [],
   "source": [
    "d={x.replace(' ',''):y for x,y in Employee.items()}"
   ]
  },
  {
   "cell_type": "code",
   "execution_count": 22,
   "id": "74011f63",
   "metadata": {},
   "outputs": [
    {
     "data": {
      "text/plain": [
       "{'emp01': 'Raj', 'emp02': 'Sheela', 'emp03': 'Joseph'}"
      ]
     },
     "execution_count": 22,
     "metadata": {},
     "output_type": "execute_result"
    }
   ],
   "source": [
    "d"
   ]
  },
  {
   "cell_type": "code",
   "execution_count": 23,
   "id": "e2124150",
   "metadata": {},
   "outputs": [],
   "source": [
    "### 9. Below list contains age and name of five students. Convert the list into a dictionary \n",
    "#such that the name is taken as key and the age before \n",
    "#their name is taken as thier respective value in the dictionary"
   ]
  },
  {
   "cell_type": "code",
   "execution_count": 24,
   "id": "07c68b88",
   "metadata": {},
   "outputs": [
    {
     "name": "stdout",
     "output_type": "stream",
     "text": [
      "{'Jon': 26, 'Roger': 34, 'Jessica': 13, 'Monica': 24, 'Ashton': 65}\n"
     ]
    }
   ],
   "source": [
    "students = [26,'Jon',34,'Roger',13,'Jessica',24,'Monica',65,'Ashton']\n",
    "dic={}\n",
    "for i in range(0,len(students),2):\n",
    "     dic[students[i+1]] = students[i]\n",
    "print(dic)\n",
    "    \n",
    "    \n",
    "\n"
   ]
  },
  {
   "cell_type": "code",
   "execution_count": 25,
   "id": "bf09c949",
   "metadata": {},
   "outputs": [],
   "source": [
    "# Q20 write a program to replace 0 and 1 gender variable with M and F"
   ]
  },
  {
   "cell_type": "code",
   "execution_count": 26,
   "id": "28426175",
   "metadata": {},
   "outputs": [],
   "source": [
    "import pandas as pd\n",
    "import numpy as np\n",
    "df=pd.DataFrame({'Id':[1,2,3,4],'Name':['Mia','Sara','Joy','Karan'],'Age':[47,38,47,41],'Gender':[1,1,0,0]})"
   ]
  },
  {
   "cell_type": "code",
   "execution_count": 27,
   "id": "1a80895e",
   "metadata": {},
   "outputs": [
    {
     "data": {
      "text/html": [
       "<div>\n",
       "<style scoped>\n",
       "    .dataframe tbody tr th:only-of-type {\n",
       "        vertical-align: middle;\n",
       "    }\n",
       "\n",
       "    .dataframe tbody tr th {\n",
       "        vertical-align: top;\n",
       "    }\n",
       "\n",
       "    .dataframe thead th {\n",
       "        text-align: right;\n",
       "    }\n",
       "</style>\n",
       "<table border=\"1\" class=\"dataframe\">\n",
       "  <thead>\n",
       "    <tr style=\"text-align: right;\">\n",
       "      <th></th>\n",
       "      <th>Id</th>\n",
       "      <th>Name</th>\n",
       "      <th>Age</th>\n",
       "      <th>Gender</th>\n",
       "    </tr>\n",
       "  </thead>\n",
       "  <tbody>\n",
       "    <tr>\n",
       "      <th>0</th>\n",
       "      <td>1</td>\n",
       "      <td>Mia</td>\n",
       "      <td>47</td>\n",
       "      <td>1</td>\n",
       "    </tr>\n",
       "    <tr>\n",
       "      <th>1</th>\n",
       "      <td>2</td>\n",
       "      <td>Sara</td>\n",
       "      <td>38</td>\n",
       "      <td>1</td>\n",
       "    </tr>\n",
       "    <tr>\n",
       "      <th>2</th>\n",
       "      <td>3</td>\n",
       "      <td>Joy</td>\n",
       "      <td>47</td>\n",
       "      <td>0</td>\n",
       "    </tr>\n",
       "    <tr>\n",
       "      <th>3</th>\n",
       "      <td>4</td>\n",
       "      <td>Karan</td>\n",
       "      <td>41</td>\n",
       "      <td>0</td>\n",
       "    </tr>\n",
       "  </tbody>\n",
       "</table>\n",
       "</div>"
      ],
      "text/plain": [
       "   Id   Name  Age  Gender\n",
       "0   1    Mia   47       1\n",
       "1   2   Sara   38       1\n",
       "2   3    Joy   47       0\n",
       "3   4  Karan   41       0"
      ]
     },
     "execution_count": 27,
     "metadata": {},
     "output_type": "execute_result"
    }
   ],
   "source": [
    "df"
   ]
  },
  {
   "cell_type": "code",
   "execution_count": 28,
   "id": "039c2df8",
   "metadata": {},
   "outputs": [],
   "source": [
    "gender_map = {1: 'Female', 0: 'Male'}\n",
    "df['Gender'] = df['Gender'].map(gender_map)"
   ]
  },
  {
   "cell_type": "code",
   "execution_count": 29,
   "id": "093824c6",
   "metadata": {},
   "outputs": [
    {
     "data": {
      "text/html": [
       "<div>\n",
       "<style scoped>\n",
       "    .dataframe tbody tr th:only-of-type {\n",
       "        vertical-align: middle;\n",
       "    }\n",
       "\n",
       "    .dataframe tbody tr th {\n",
       "        vertical-align: top;\n",
       "    }\n",
       "\n",
       "    .dataframe thead th {\n",
       "        text-align: right;\n",
       "    }\n",
       "</style>\n",
       "<table border=\"1\" class=\"dataframe\">\n",
       "  <thead>\n",
       "    <tr style=\"text-align: right;\">\n",
       "      <th></th>\n",
       "      <th>Id</th>\n",
       "      <th>Name</th>\n",
       "      <th>Age</th>\n",
       "      <th>Gender</th>\n",
       "    </tr>\n",
       "  </thead>\n",
       "  <tbody>\n",
       "    <tr>\n",
       "      <th>0</th>\n",
       "      <td>1</td>\n",
       "      <td>Mia</td>\n",
       "      <td>47</td>\n",
       "      <td>Female</td>\n",
       "    </tr>\n",
       "    <tr>\n",
       "      <th>1</th>\n",
       "      <td>2</td>\n",
       "      <td>Sara</td>\n",
       "      <td>38</td>\n",
       "      <td>Female</td>\n",
       "    </tr>\n",
       "    <tr>\n",
       "      <th>2</th>\n",
       "      <td>3</td>\n",
       "      <td>Joy</td>\n",
       "      <td>47</td>\n",
       "      <td>Male</td>\n",
       "    </tr>\n",
       "    <tr>\n",
       "      <th>3</th>\n",
       "      <td>4</td>\n",
       "      <td>Karan</td>\n",
       "      <td>41</td>\n",
       "      <td>Male</td>\n",
       "    </tr>\n",
       "  </tbody>\n",
       "</table>\n",
       "</div>"
      ],
      "text/plain": [
       "   Id   Name  Age  Gender\n",
       "0   1    Mia   47  Female\n",
       "1   2   Sara   38  Female\n",
       "2   3    Joy   47    Male\n",
       "3   4  Karan   41    Male"
      ]
     },
     "execution_count": 29,
     "metadata": {},
     "output_type": "execute_result"
    }
   ],
   "source": [
    "df"
   ]
  },
  {
   "cell_type": "code",
   "execution_count": 30,
   "id": "59f95b50",
   "metadata": {},
   "outputs": [],
   "source": [
    "# 10. Write a program to check whether two strings, taken from user, are anagram or not"
   ]
  },
  {
   "cell_type": "code",
   "execution_count": null,
   "id": "58a62399",
   "metadata": {},
   "outputs": [
    {
     "name": "stdout",
     "output_type": "stream",
     "text": [
      "Enter the first string: Tushar\n"
     ]
    }
   ],
   "source": [
    "string1 = input(\"Enter the first string: \")\n",
    "string2 = input(\"Enter the second string: \")\n",
    "\n",
    "string1 = string1.lower().replace(\" \", \"\")\n",
    "string2 = string2.lower().replace(\" \", \"\")\n",
    "if sorted(string1) == sorted(string2):\n",
    "    print(\"The strings are anagrams.\")\n",
    "else:\n",
    "    print(\"The strings are not anagrams.\")\n"
   ]
  },
  {
   "cell_type": "code",
   "execution_count": null,
   "id": "6e0507e9",
   "metadata": {},
   "outputs": [],
   "source": [
    "# 11. Write a program that sorts all the elements of the list according to the first letter, irrespective of their cases \n",
    "# (uppercase or lowercase). Note: Do not use any inbuilt sorting function"
   ]
  },
  {
   "cell_type": "code",
   "execution_count": 10,
   "id": "4ab57f6c",
   "metadata": {},
   "outputs": [
    {
     "name": "stdout",
     "output_type": "stream",
     "text": [
      "['C', 'c++', 'data science', 'Hadoop', 'python', 'Scala']\n"
     ]
    }
   ],
   "source": [
    "courses = ['python', 'Hadoop', 'data science', 'Scala', 'C', 'c++']\n",
    "s = ' '\n",
    "for i in range(len(courses)):      \n",
    "    for j in range(i+1, len(courses)):      \n",
    "        if(courses[i][0].lower() > courses[j][0].lower()):     \n",
    "            courses[i], courses[j] = courses[j], courses[i]\n",
    "\n",
    "print(courses)   "
   ]
  },
  {
   "cell_type": "code",
   "execution_count": 11,
   "id": "dde30f08",
   "metadata": {},
   "outputs": [],
   "source": [
    "# 12. Write a program that prints a list of sour fruits from the below tuple:"
   ]
  },
  {
   "cell_type": "code",
   "execution_count": 14,
   "id": "cf002d8b",
   "metadata": {},
   "outputs": [
    {
     "data": {
      "text/plain": [
       "['Orange', 'Green Mango', 'Kiwi', 'Raspberry', 'Pineapple']"
      ]
     },
     "execution_count": 14,
     "metadata": {},
     "output_type": "execute_result"
    }
   ],
   "source": [
    "fruits = (('Orange','Sour'),\n",
    "          ('Green Mango', 'Sour'),\n",
    "          ('Papaya','sweet'),\n",
    "          ('Kiwi','Sour'),\n",
    "          ('Apples','sweet'),\n",
    "          ('Banana','sweet'),\n",
    "          ('Raspberry','sour'),\n",
    "          ('Pineapple','Sour'))\n",
    "l=[x[0] for x in fruits for y in x if y.lower()==\"sour\"]\n",
    "l"
   ]
  },
  {
   "cell_type": "code",
   "execution_count": 15,
   "id": "3d2f4712",
   "metadata": {},
   "outputs": [],
   "source": [
    "#13. Given below are the list of positive and negative words. Also a list of \n",
    "# tweets is provided. Separate out the positive and negative comments"
   ]
  },
  {
   "cell_type": "code",
   "execution_count": 16,
   "id": "54b9c8e5",
   "metadata": {},
   "outputs": [],
   "source": [
    "positive=['good','awesome','best','nice']\n",
    "negative=['worst','awful','bad']\n",
    "\n",
    "tweets = ['This government policies are good', 'bad implementation', \n",
    "          'The way he played showed that he is one of the best players in the world', \n",
    "          'Her acting in the play was awesome', \n",
    "          'The wine tastes awful', \"It's nice to hear this little kid's laugh\"]\n",
    "d=[x for x in tweets for y in x.split() if y in positive]\n",
    "f=[z for z in tweets for g in z.split() if g in negative]"
   ]
  },
  {
   "cell_type": "code",
   "execution_count": 17,
   "id": "a16f744d",
   "metadata": {},
   "outputs": [
    {
     "data": {
      "text/plain": [
       "['This government policies are good',\n",
       " 'The way he played showed that he is one of the best players in the world',\n",
       " 'Her acting in the play was awesome',\n",
       " \"It's nice to hear this little kid's laugh\"]"
      ]
     },
     "execution_count": 17,
     "metadata": {},
     "output_type": "execute_result"
    }
   ],
   "source": [
    "d"
   ]
  },
  {
   "cell_type": "code",
   "execution_count": 18,
   "id": "93577239",
   "metadata": {},
   "outputs": [
    {
     "data": {
      "text/plain": [
       "['bad implementation', 'The wine tastes awful']"
      ]
     },
     "execution_count": 18,
     "metadata": {},
     "output_type": "execute_result"
    }
   ],
   "source": [
    "f"
   ]
  },
  {
   "cell_type": "code",
   "execution_count": 19,
   "id": "3c824fdd",
   "metadata": {},
   "outputs": [],
   "source": [
    "## 14. Write a program that performs multiplication of the following two matrix"
   ]
  },
  {
   "cell_type": "code",
   "execution_count": 28,
   "id": "b3727c2e",
   "metadata": {},
   "outputs": [
    {
     "data": {
      "text/plain": [
       "array([[ 19,  37,  34],\n",
       "       [ 43,  97,  73],\n",
       "       [ 67, 157, 112]])"
      ]
     },
     "execution_count": 28,
     "metadata": {},
     "output_type": "execute_result"
    }
   ],
   "source": [
    "import numpy as np\n",
    "X=np.array([[1,2,3],\n",
    "    [4 ,5,6],\n",
    "    [7 ,8,9]])\n",
    "Y=np.array([[1,8,1],\n",
    "    [3,7,3],\n",
    "    [4,5,9]])\n",
    "product=X@Y\n",
    "product"
   ]
  },
  {
   "cell_type": "code",
   "execution_count": 29,
   "id": "adb4be86",
   "metadata": {},
   "outputs": [],
   "source": [
    "#16.  Write a program to display the subjects for which the scores are between 300 and 500 (inclusive) in the given dataframe"
   ]
  },
  {
   "cell_type": "code",
   "execution_count": 34,
   "id": "0aaa4559",
   "metadata": {},
   "outputs": [
    {
     "data": {
      "text/html": [
       "<div>\n",
       "<style scoped>\n",
       "    .dataframe tbody tr th:only-of-type {\n",
       "        vertical-align: middle;\n",
       "    }\n",
       "\n",
       "    .dataframe tbody tr th {\n",
       "        vertical-align: top;\n",
       "    }\n",
       "\n",
       "    .dataframe thead th {\n",
       "        text-align: right;\n",
       "    }\n",
       "</style>\n",
       "<table border=\"1\" class=\"dataframe\">\n",
       "  <thead>\n",
       "    <tr style=\"text-align: right;\">\n",
       "      <th></th>\n",
       "      <th>Subjects</th>\n",
       "      <th>Score</th>\n",
       "    </tr>\n",
       "  </thead>\n",
       "  <tbody>\n",
       "    <tr>\n",
       "      <th>0</th>\n",
       "      <td>Maths</td>\n",
       "      <td>345</td>\n",
       "    </tr>\n",
       "    <tr>\n",
       "      <th>1</th>\n",
       "      <td>Physics</td>\n",
       "      <td>432</td>\n",
       "    </tr>\n",
       "    <tr>\n",
       "      <th>2</th>\n",
       "      <td>Chemistry</td>\n",
       "      <td>456</td>\n",
       "    </tr>\n",
       "    <tr>\n",
       "      <th>3</th>\n",
       "      <td>Biology</td>\n",
       "      <td>234</td>\n",
       "    </tr>\n",
       "    <tr>\n",
       "      <th>4</th>\n",
       "      <td>Geology</td>\n",
       "      <td>254</td>\n",
       "    </tr>\n",
       "  </tbody>\n",
       "</table>\n",
       "</div>"
      ],
      "text/plain": [
       "    Subjects  Score\n",
       "0      Maths    345\n",
       "1    Physics    432\n",
       "2  Chemistry    456\n",
       "3    Biology    234\n",
       "4    Geology    254"
      ]
     },
     "execution_count": 34,
     "metadata": {},
     "output_type": "execute_result"
    }
   ],
   "source": [
    "import pandas as pd\n",
    "data={'Subjects':['Maths','Physics','Chemistry','Biology','Geology'],'Score':[345,432,456,234,254]}\n",
    "frame=pd.DataFrame(data)\n",
    "frame"
   ]
  },
  {
   "cell_type": "code",
   "execution_count": 37,
   "id": "520435a9",
   "metadata": {},
   "outputs": [
    {
     "data": {
      "text/plain": [
       "0        Maths\n",
       "1      Physics\n",
       "2    Chemistry\n",
       "Name: Subjects, dtype: object"
      ]
     },
     "execution_count": 37,
     "metadata": {},
     "output_type": "execute_result"
    }
   ],
   "source": [
    "frame['Subjects'][frame['Score'].between(300, 500)]"
   ]
  },
  {
   "cell_type": "code",
   "execution_count": 38,
   "id": "40afa2c4",
   "metadata": {},
   "outputs": [],
   "source": [
    " # 17. Write a program to find numbers between 10000 to 20000 from a given array"
   ]
  },
  {
   "cell_type": "code",
   "execution_count": 39,
   "id": "4b7222d5",
   "metadata": {},
   "outputs": [
    {
     "data": {
      "text/plain": [
       "array([12447, 12459, 12678])"
      ]
     },
     "execution_count": 39,
     "metadata": {},
     "output_type": "execute_result"
    }
   ],
   "source": [
    "Sales = [1432,143223,2043332,1642357,54327,754338,12459,75435,224454,1433,12447,25532,86674,74338,12678]\n",
    "Sales = np.array(Sales)\n",
    "num_greater_than_10000 =  Sales[Sales > 10000]\n",
    "num_less_than_20000 =  Sales[Sales < 20000]\n",
    "\n",
    "np.intersect1d(num_greater_than_10000, num_less_than_20000)"
   ]
  },
  {
   "cell_type": "code",
   "execution_count": 40,
   "id": "e314c8cf",
   "metadata": {},
   "outputs": [],
   "source": [
    "# 18. Write a program to sort the dataframe by Rank (in ascending order)"
   ]
  },
  {
   "cell_type": "code",
   "execution_count": 42,
   "id": "bd4e992c",
   "metadata": {},
   "outputs": [
    {
     "data": {
      "text/html": [
       "<div>\n",
       "<style scoped>\n",
       "    .dataframe tbody tr th:only-of-type {\n",
       "        vertical-align: middle;\n",
       "    }\n",
       "\n",
       "    .dataframe tbody tr th {\n",
       "        vertical-align: top;\n",
       "    }\n",
       "\n",
       "    .dataframe thead th {\n",
       "        text-align: right;\n",
       "    }\n",
       "</style>\n",
       "<table border=\"1\" class=\"dataframe\">\n",
       "  <thead>\n",
       "    <tr style=\"text-align: right;\">\n",
       "      <th></th>\n",
       "      <th>Name</th>\n",
       "      <th>Rank</th>\n",
       "    </tr>\n",
       "  </thead>\n",
       "  <tbody>\n",
       "    <tr>\n",
       "      <th>0</th>\n",
       "      <td>Joy</td>\n",
       "      <td>115</td>\n",
       "    </tr>\n",
       "    <tr>\n",
       "      <th>1</th>\n",
       "      <td>Mia</td>\n",
       "      <td>451</td>\n",
       "    </tr>\n",
       "    <tr>\n",
       "      <th>2</th>\n",
       "      <td>Karan</td>\n",
       "      <td>341</td>\n",
       "    </tr>\n",
       "    <tr>\n",
       "      <th>3</th>\n",
       "      <td>Tom</td>\n",
       "      <td>84</td>\n",
       "    </tr>\n",
       "  </tbody>\n",
       "</table>\n",
       "</div>"
      ],
      "text/plain": [
       "    Name  Rank\n",
       "0    Joy   115\n",
       "1    Mia   451\n",
       "2  Karan   341\n",
       "3    Tom    84"
      ]
     },
     "execution_count": 42,
     "metadata": {},
     "output_type": "execute_result"
    }
   ],
   "source": [
    "data={'Name':['Joy','Mia','Karan','Tom'],'Rank':[115,451,341,84]}\n",
    "student=pd.DataFrame(data)\n",
    "student"
   ]
  },
  {
   "cell_type": "code",
   "execution_count": 48,
   "id": "e59e7b6a",
   "metadata": {},
   "outputs": [
    {
     "data": {
      "text/html": [
       "<div>\n",
       "<style scoped>\n",
       "    .dataframe tbody tr th:only-of-type {\n",
       "        vertical-align: middle;\n",
       "    }\n",
       "\n",
       "    .dataframe tbody tr th {\n",
       "        vertical-align: top;\n",
       "    }\n",
       "\n",
       "    .dataframe thead th {\n",
       "        text-align: right;\n",
       "    }\n",
       "</style>\n",
       "<table border=\"1\" class=\"dataframe\">\n",
       "  <thead>\n",
       "    <tr style=\"text-align: right;\">\n",
       "      <th></th>\n",
       "      <th>Name</th>\n",
       "      <th>Rank</th>\n",
       "    </tr>\n",
       "  </thead>\n",
       "  <tbody>\n",
       "    <tr>\n",
       "      <th>3</th>\n",
       "      <td>Tom</td>\n",
       "      <td>84</td>\n",
       "    </tr>\n",
       "    <tr>\n",
       "      <th>1</th>\n",
       "      <td>Joy</td>\n",
       "      <td>115</td>\n",
       "    </tr>\n",
       "    <tr>\n",
       "      <th>2</th>\n",
       "      <td>Karan</td>\n",
       "      <td>341</td>\n",
       "    </tr>\n",
       "    <tr>\n",
       "      <th>0</th>\n",
       "      <td>Mia</td>\n",
       "      <td>451</td>\n",
       "    </tr>\n",
       "  </tbody>\n",
       "</table>\n",
       "</div>"
      ],
      "text/plain": [
       "    Name  Rank\n",
       "3    Tom    84\n",
       "1    Joy   115\n",
       "2  Karan   341\n",
       "0    Mia   451"
      ]
     },
     "execution_count": 48,
     "metadata": {},
     "output_type": "execute_result"
    }
   ],
   "source": [
    "x=student.sort_values('Rank')\n",
    "x"
   ]
  },
  {
   "cell_type": "code",
   "execution_count": 45,
   "id": "fd30d3c7",
   "metadata": {},
   "outputs": [],
   "source": [
    "# 19. Use the data given in the question 18, to do the following:\n",
    "#  Write a program to swap the 1st and 2nd row in a dataframe"
   ]
  },
  {
   "cell_type": "code",
   "execution_count": 50,
   "id": "d623db30",
   "metadata": {},
   "outputs": [
    {
     "name": "stdout",
     "output_type": "stream",
     "text": [
      "updated datagrame:\n",
      "     Name  Rank\n",
      "0    Mia   451\n",
      "1    Joy   115\n",
      "2  Karan   341\n",
      "3    Tom    84\n"
     ]
    }
   ],
   "source": [
    "b, c = student.iloc[0].copy(), student.iloc[1].copy()\n",
    "\n",
    "student.iloc[0], student.iloc[1] = c, b\n",
    "print('updated datagrame:\\n',student)"
   ]
  },
  {
   "cell_type": "code",
   "execution_count": 51,
   "id": "a4c86a62",
   "metadata": {},
   "outputs": [],
   "source": [
    "# 21. Convert a 1D array to a 2D array containing 2 rows"
   ]
  },
  {
   "cell_type": "code",
   "execution_count": 53,
   "id": "bda70a8e",
   "metadata": {},
   "outputs": [
    {
     "name": "stdout",
     "output_type": "stream",
     "text": [
      "2D:\n",
      " [[331 245 246]\n",
      " [475 348 229]]\n"
     ]
    }
   ],
   "source": [
    "dim_1 = ([331, 245, 246, 475, 348, 229])\n",
    "dim_1 = np.array(dim_1)\n",
    "\n",
    "dim_2 = dim_1.reshape(2, -1)  \n",
    "\n",
    "print('2D:\\n', dim_2)"
   ]
  },
  {
   "cell_type": "code",
   "execution_count": 54,
   "id": "27d3f23d",
   "metadata": {},
   "outputs": [],
   "source": [
    "#22. Find the average cost of each variety of product available in the three different shops"
   ]
  },
  {
   "cell_type": "code",
   "execution_count": 61,
   "id": "b3d85260",
   "metadata": {},
   "outputs": [
    {
     "name": "stdout",
     "output_type": "stream",
     "text": [
      "       product_a  product_b  product_c\n",
      "Shop1         10         20         30\n",
      "Shop2         17         14         21\n",
      "Shop3         25         15         12\n",
      "\n",
      " Calculate Mean \n",
      "\n",
      "product_a    17.333333\n",
      "product_b    16.333333\n",
      "product_c    21.000000\n",
      "dtype: float64\n"
     ]
    }
   ],
   "source": [
    "df_product = pd.DataFrame([[10, 20, 30], [17, 14, 21], [25, 15, 12]],\n",
    "                  columns=['product_a', 'product_b', 'product_c'],\n",
    "                  index=['Shop1', 'Shop2', 'Shop3'])\n",
    "print(df_product)\n",
    "\n",
    "print(\"\\n Calculate Mean \\n\")\n",
    "\n",
    "print(df_product.mean())\n"
   ]
  },
  {
   "cell_type": "code",
   "execution_count": 62,
   "id": "40683e44",
   "metadata": {},
   "outputs": [],
   "source": [
    "# 23. Write a program to create a histogram using given data"
   ]
  },
  {
   "cell_type": "code",
   "execution_count": 71,
   "id": "df819ff8",
   "metadata": {},
   "outputs": [
    {
     "data": {
      "image/png": "[encoded data removed]",
      "text/plain": [
       "<Figure size 640x480 with 1 Axes>"
      ]
     },
     "metadata": {},
     "output_type": "display_data"
    }
   ],
   "source": [
    "import matplotlib.pyplot as plt\n",
    "\n",
    "\n",
    "weight = [34,56,43,22,2,58,89,78,67,56,65,43,23]\n",
    "plt.hist(weight,rwidth=0.8)\n",
    "\n",
    "plt.xlabel('Age')\n",
    "plt.ylabel('Number of people')\n",
    "plt.title('Histogram')\n",
    "\n",
    "plt.show()"
   ]
  },
  {
   "cell_type": "code",
   "execution_count": 72,
   "id": "108394c0",
   "metadata": {},
   "outputs": [],
   "source": [
    " # 24. Write a program to delete items from series_a that are present in series_b and print the updated series_a"
   ]
  },
  {
   "cell_type": "code",
   "execution_count": 73,
   "id": "4128422a",
   "metadata": {},
   "outputs": [
    {
     "name": "stdout",
     "output_type": "stream",
     "text": [
      "updated_series1: \n",
      " 0    11\n",
      "1    12\n",
      "2    13\n",
      "dtype: int64\n"
     ]
    }
   ],
   "source": [
    "series_a = pd.Series([11, 12, 13, 14, 15])\n",
    "series_b = pd.Series([14, 15, 16, 17, 18])\n",
    "series_a = series_a[~series_a.isin(series_b)]\n",
    "\n",
    "print('updated_series1: \\n', series_a)"
   ]
  },
  {
   "cell_type": "code",
   "execution_count": 74,
   "id": "d360b996",
   "metadata": {},
   "outputs": [],
   "source": [
    "# 25. Create a series of 40 random numbers and transform it into a dataframe containing seven columns and five rows"
   ]
  },
  {
   "cell_type": "code",
   "execution_count": 77,
   "id": "d4c5d7cb",
   "metadata": {},
   "outputs": [
    {
     "data": {
      "text/html": [
       "<div>\n",
       "<style scoped>\n",
       "    .dataframe tbody tr th:only-of-type {\n",
       "        vertical-align: middle;\n",
       "    }\n",
       "\n",
       "    .dataframe tbody tr th {\n",
       "        vertical-align: top;\n",
       "    }\n",
       "\n",
       "    .dataframe thead th {\n",
       "        text-align: right;\n",
       "    }\n",
       "</style>\n",
       "<table border=\"1\" class=\"dataframe\">\n",
       "  <thead>\n",
       "    <tr style=\"text-align: right;\">\n",
       "      <th></th>\n",
       "      <th>0</th>\n",
       "      <th>1</th>\n",
       "      <th>2</th>\n",
       "      <th>3</th>\n",
       "      <th>4</th>\n",
       "      <th>5</th>\n",
       "      <th>6</th>\n",
       "      <th>7</th>\n",
       "    </tr>\n",
       "  </thead>\n",
       "  <tbody>\n",
       "    <tr>\n",
       "      <th>0</th>\n",
       "      <td>4</td>\n",
       "      <td>6</td>\n",
       "      <td>2</td>\n",
       "      <td>4</td>\n",
       "      <td>6</td>\n",
       "      <td>3</td>\n",
       "      <td>1</td>\n",
       "      <td>2</td>\n",
       "    </tr>\n",
       "    <tr>\n",
       "      <th>1</th>\n",
       "      <td>6</td>\n",
       "      <td>7</td>\n",
       "      <td>9</td>\n",
       "      <td>8</td>\n",
       "      <td>3</td>\n",
       "      <td>7</td>\n",
       "      <td>7</td>\n",
       "      <td>9</td>\n",
       "    </tr>\n",
       "    <tr>\n",
       "      <th>2</th>\n",
       "      <td>6</td>\n",
       "      <td>9</td>\n",
       "      <td>6</td>\n",
       "      <td>5</td>\n",
       "      <td>5</td>\n",
       "      <td>1</td>\n",
       "      <td>9</td>\n",
       "      <td>1</td>\n",
       "    </tr>\n",
       "    <tr>\n",
       "      <th>3</th>\n",
       "      <td>7</td>\n",
       "      <td>1</td>\n",
       "      <td>9</td>\n",
       "      <td>4</td>\n",
       "      <td>3</td>\n",
       "      <td>7</td>\n",
       "      <td>2</td>\n",
       "      <td>8</td>\n",
       "    </tr>\n",
       "    <tr>\n",
       "      <th>4</th>\n",
       "      <td>2</td>\n",
       "      <td>9</td>\n",
       "      <td>3</td>\n",
       "      <td>1</td>\n",
       "      <td>6</td>\n",
       "      <td>9</td>\n",
       "      <td>8</td>\n",
       "      <td>8</td>\n",
       "    </tr>\n",
       "  </tbody>\n",
       "</table>\n",
       "</div>"
      ],
      "text/plain": [
       "   0  1  2  3  4  5  6  7\n",
       "0  4  6  2  4  6  3  1  2\n",
       "1  6  7  9  8  3  7  7  9\n",
       "2  6  9  6  5  5  1  9  1\n",
       "3  7  1  9  4  3  7  2  8\n",
       "4  2  9  3  1  6  9  8  8"
      ]
     },
     "execution_count": 77,
     "metadata": {},
     "output_type": "execute_result"
    }
   ],
   "source": [
    "num = pd.Series(np.random.randint(1, 10, 40))\n",
    "df_numbers = pd.DataFrame(num.values.reshape(5,8))\n",
    "df_numbers"
   ]
  },
  {
   "cell_type": "code",
   "execution_count": 78,
   "id": "00e5bbd2",
   "metadata": {},
   "outputs": [],
   "source": [
    "# 26. Get common elements from the two arrays"
   ]
  },
  {
   "cell_type": "code",
   "execution_count": 80,
   "id": "336a8b6d",
   "metadata": {},
   "outputs": [
    {
     "data": {
      "text/plain": [
       "array([13, 22, 44])"
      ]
     },
     "execution_count": 80,
     "metadata": {},
     "output_type": "execute_result"
    }
   ],
   "source": [
    "test_a = np.array([11,12,13,22,23,44,43,24,45,36])\n",
    "test_b = np.array([17,22,13,22,47,34,39,44,29,28])\n",
    "\n",
    "np.intersect1d(test_a,test_b)"
   ]
  },
  {
   "cell_type": "code",
   "execution_count": 81,
   "id": "bf8cb6be",
   "metadata": {},
   "outputs": [],
   "source": [
    "## 28. Compute total sales for each product and country"
   ]
  },
  {
   "cell_type": "code",
   "execution_count": 82,
   "id": "0deab600",
   "metadata": {},
   "outputs": [],
   "source": [
    "sales = pd.DataFrame({'Product': ['A', 'J', 'A', 'L', 'R', 'A', 'R', 'J', 'L', 'A'],\n",
    "'Country': ['USA', 'Japan', 'Europe', 'Japan', 'Europe', 'USA', 'USA', 'Japan',\n",
    "'USA', 'Europe'],\n",
    "'Sales': [44000, 43000, 54000, 95600, 79000, 67000, 68000, 38000, 59000, 60000]})"
   ]
  },
  {
   "cell_type": "code",
   "execution_count": 84,
   "id": "a515a3c8",
   "metadata": {},
   "outputs": [
    {
     "data": {
      "text/html": [
       "<div>\n",
       "<style scoped>\n",
       "    .dataframe tbody tr th:only-of-type {\n",
       "        vertical-align: middle;\n",
       "    }\n",
       "\n",
       "    .dataframe tbody tr th {\n",
       "        vertical-align: top;\n",
       "    }\n",
       "\n",
       "    .dataframe thead tr th {\n",
       "        text-align: left;\n",
       "    }\n",
       "\n",
       "    .dataframe thead tr:last-of-type th {\n",
       "        text-align: right;\n",
       "    }\n",
       "</style>\n",
       "<table border=\"1\" class=\"dataframe\">\n",
       "  <thead>\n",
       "    <tr>\n",
       "      <th></th>\n",
       "      <th colspan=\"4\" halign=\"left\">sum</th>\n",
       "    </tr>\n",
       "    <tr>\n",
       "      <th>Product</th>\n",
       "      <th>A</th>\n",
       "      <th>J</th>\n",
       "      <th>L</th>\n",
       "      <th>R</th>\n",
       "    </tr>\n",
       "    <tr>\n",
       "      <th>Country</th>\n",
       "      <th></th>\n",
       "      <th></th>\n",
       "      <th></th>\n",
       "      <th></th>\n",
       "    </tr>\n",
       "  </thead>\n",
       "  <tbody>\n",
       "    <tr>\n",
       "      <th>Europe</th>\n",
       "      <td>114000.0</td>\n",
       "      <td>NaN</td>\n",
       "      <td>NaN</td>\n",
       "      <td>79000.0</td>\n",
       "    </tr>\n",
       "    <tr>\n",
       "      <th>Japan</th>\n",
       "      <td>NaN</td>\n",
       "      <td>81000.0</td>\n",
       "      <td>95600.0</td>\n",
       "      <td>NaN</td>\n",
       "    </tr>\n",
       "    <tr>\n",
       "      <th>USA</th>\n",
       "      <td>111000.0</td>\n",
       "      <td>NaN</td>\n",
       "      <td>59000.0</td>\n",
       "      <td>68000.0</td>\n",
       "    </tr>\n",
       "  </tbody>\n",
       "</table>\n",
       "</div>"
      ],
      "text/plain": [
       "              sum                           \n",
       "Product         A        J        L        R\n",
       "Country                                     \n",
       "Europe   114000.0      NaN      NaN  79000.0\n",
       "Japan         NaN  81000.0  95600.0      NaN\n",
       "USA      111000.0      NaN  59000.0  68000.0"
      ]
     },
     "execution_count": 84,
     "metadata": {},
     "output_type": "execute_result"
    }
   ],
   "source": [
    "pd.pivot_table(sales, values='Sales', index=['Country'], columns='Product', aggfunc=['sum'])"
   ]
  },
  {
   "cell_type": "code",
   "execution_count": 85,
   "id": "7d459d56",
   "metadata": {},
   "outputs": [],
   "source": [
    "# 29. Get the descriptive statistics of the sales for each Country"
   ]
  },
  {
   "cell_type": "code",
   "execution_count": 86,
   "id": "423abb44",
   "metadata": {},
   "outputs": [
    {
     "data": {
      "text/html": [
       "<div>\n",
       "<style scoped>\n",
       "    .dataframe tbody tr th:only-of-type {\n",
       "        vertical-align: middle;\n",
       "    }\n",
       "\n",
       "    .dataframe tbody tr th {\n",
       "        vertical-align: top;\n",
       "    }\n",
       "\n",
       "    .dataframe thead tr th {\n",
       "        text-align: left;\n",
       "    }\n",
       "\n",
       "    .dataframe thead tr:last-of-type th {\n",
       "        text-align: right;\n",
       "    }\n",
       "</style>\n",
       "<table border=\"1\" class=\"dataframe\">\n",
       "  <thead>\n",
       "    <tr>\n",
       "      <th></th>\n",
       "      <th colspan=\"8\" halign=\"left\">Sales</th>\n",
       "    </tr>\n",
       "    <tr>\n",
       "      <th></th>\n",
       "      <th>count</th>\n",
       "      <th>mean</th>\n",
       "      <th>std</th>\n",
       "      <th>min</th>\n",
       "      <th>25%</th>\n",
       "      <th>50%</th>\n",
       "      <th>75%</th>\n",
       "      <th>max</th>\n",
       "    </tr>\n",
       "    <tr>\n",
       "      <th>Country</th>\n",
       "      <th></th>\n",
       "      <th></th>\n",
       "      <th></th>\n",
       "      <th></th>\n",
       "      <th></th>\n",
       "      <th></th>\n",
       "      <th></th>\n",
       "      <th></th>\n",
       "    </tr>\n",
       "  </thead>\n",
       "  <tbody>\n",
       "    <tr>\n",
       "      <th>Europe</th>\n",
       "      <td>3.0</td>\n",
       "      <td>64333.333333</td>\n",
       "      <td>13051.181300</td>\n",
       "      <td>54000.0</td>\n",
       "      <td>57000.0</td>\n",
       "      <td>60000.0</td>\n",
       "      <td>69500.0</td>\n",
       "      <td>79000.0</td>\n",
       "    </tr>\n",
       "    <tr>\n",
       "      <th>Japan</th>\n",
       "      <td>3.0</td>\n",
       "      <td>58866.666667</td>\n",
       "      <td>31910.082001</td>\n",
       "      <td>38000.0</td>\n",
       "      <td>40500.0</td>\n",
       "      <td>43000.0</td>\n",
       "      <td>69300.0</td>\n",
       "      <td>95600.0</td>\n",
       "    </tr>\n",
       "    <tr>\n",
       "      <th>USA</th>\n",
       "      <td>4.0</td>\n",
       "      <td>59500.000000</td>\n",
       "      <td>11090.536506</td>\n",
       "      <td>44000.0</td>\n",
       "      <td>55250.0</td>\n",
       "      <td>63000.0</td>\n",
       "      <td>67250.0</td>\n",
       "      <td>68000.0</td>\n",
       "    </tr>\n",
       "  </tbody>\n",
       "</table>\n",
       "</div>"
      ],
      "text/plain": [
       "        Sales                                                                  \\\n",
       "        count          mean           std      min      25%      50%      75%   \n",
       "Country                                                                         \n",
       "Europe    3.0  64333.333333  13051.181300  54000.0  57000.0  60000.0  69500.0   \n",
       "Japan     3.0  58866.666667  31910.082001  38000.0  40500.0  43000.0  69300.0   \n",
       "USA       4.0  59500.000000  11090.536506  44000.0  55250.0  63000.0  67250.0   \n",
       "\n",
       "                  \n",
       "             max  \n",
       "Country           \n",
       "Europe   79000.0  \n",
       "Japan    95600.0  \n",
       "USA      68000.0  "
      ]
     },
     "execution_count": 86,
     "metadata": {},
     "output_type": "execute_result"
    }
   ],
   "source": [
    "sales.groupby([\"Country\"])[[\"Sales\"]].describe()"
   ]
  },
  {
   "cell_type": "code",
   "execution_count": 87,
   "id": "946eb824",
   "metadata": {},
   "outputs": [],
   "source": [
    "## 30. Reverse each of the rows of the 2D array"
   ]
  },
  {
   "cell_type": "code",
   "execution_count": 88,
   "id": "e5e0b74d",
   "metadata": {},
   "outputs": [
    {
     "data": {
      "text/plain": [
       "array([[ 0,  1,  2,  3,  4],\n",
       "       [ 5,  6,  7,  8,  9],\n",
       "       [10, 11, 12, 13, 14],\n",
       "       [15, 16, 17, 18, 19]])"
      ]
     },
     "execution_count": 88,
     "metadata": {},
     "output_type": "execute_result"
    }
   ],
   "source": [
    "num_array = np.arange(20).reshape(4,5)\n",
    "\n",
    "num_array"
   ]
  },
  {
   "cell_type": "code",
   "execution_count": 89,
   "id": "8983f630",
   "metadata": {},
   "outputs": [
    {
     "data": {
      "text/plain": [
       "array([[ 4,  3,  2,  1,  0],\n",
       "       [ 9,  8,  7,  6,  5],\n",
       "       [14, 13, 12, 11, 10],\n",
       "       [19, 18, 17, 16, 15]])"
      ]
     },
     "execution_count": 89,
     "metadata": {},
     "output_type": "execute_result"
    }
   ],
   "source": [
    "num_array[:, ::-1]"
   ]
  },
  {
   "cell_type": "code",
   "execution_count": null,
   "id": "5f90c893",
   "metadata": {},
   "outputs": [],
   "source": []
  }
 ],
 "metadata": {
  "kernelspec": {
   "display_name": "Python 3 (ipykernel)",
   "language": "python",
   "name": "python3"
  },
  "language_info": {
   "codemirror_mode": {
    "name": "ipython",
    "version": 3
   },
   "file_extension": ".py",
   "mimetype": "text/x-python",
   "name": "python",
   "nbconvert_exporter": "python",
   "pygments_lexer": "ipython3",
   "version": "3.11.4"
  }
 },
 "nbformat": 4,
 "nbformat_minor": 5
}
